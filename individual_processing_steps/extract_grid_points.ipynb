{
 "cells": [
  {
   "cell_type": "code",
   "execution_count": null,
   "id": "0",
   "metadata": {},
   "outputs": [],
   "source": [
    "%load_ext autoreload\n",
    "%autoreload 2"
   ]
  },
  {
   "cell_type": "code",
   "execution_count": null,
   "id": "1",
   "metadata": {},
   "outputs": [],
   "source": [
    "import cv2\n",
    "import numpy as np\n",
    "import matplotlib.pyplot as plt"
   ]
  },
  {
   "cell_type": "code",
   "execution_count": null,
   "id": "2",
   "metadata": {},
   "outputs": [],
   "source": [
    "from src.fft_grid_filtering import filter\n",
    "\n",
    "# img = cv2.imread('sample_calibration_images/single_target/set1/cal1.tif', cv2.IMREAD_GRAYSCALE)\n",
    "img = cv2.imread('sample_calibration_images/moving_target/set1/cal1.tif', cv2.IMREAD_GRAYSCALE)\n",
    "img = cv2.fastNlMeansDenoising(img, None, 5)\n",
    "# img = cv2.equalizeHist(img) only needed for images with poor contrast\n",
    "\n",
    "filtered_image = filter(img)"
   ]
  },
  {
   "cell_type": "code",
   "execution_count": null,
   "id": "3",
   "metadata": {},
   "outputs": [],
   "source": [
    "from src.target_point_detection import detect_target_points\n",
    "\n",
    "points = detect_target_points(filtered_image, diameterDot=8)"
   ]
  }
 ],
 "metadata": {
  "kernelspec": {
   "display_name": "Python 3",
   "language": "python",
   "name": "python3"
  },
  "language_info": {
   "codemirror_mode": {
    "name": "ipython",
    "version": 3
   },
   "file_extension": ".py",
   "mimetype": "text/x-python",
   "name": "python",
   "nbconvert_exporter": "python",
   "pygments_lexer": "ipython3",
   "version": "3.10.18"
  }
 },
 "nbformat": 4,
 "nbformat_minor": 5
}
