{
 "cells": [
  {
   "cell_type": "code",
   "execution_count": null,
   "id": "0",
   "metadata": {},
   "outputs": [],
   "source": [
    "%load_ext autoreload\n",
    "%autoreload 2"
   ]
  },
  {
   "cell_type": "code",
   "execution_count": null,
   "id": "1",
   "metadata": {},
   "outputs": [],
   "source": [
    "import cv2\n",
    "import pandas as pd\n",
    "\n",
    "from src.grid_matching import match_calibration_grid\n",
    "\n",
    "filename = 'output/detected_points.txt'\n",
    "image_points = pd.read_csv(filename).to_numpy()\n",
    "calibration_points = pd.read_csv('calibration_targets/TSI_5mm_backlight_nX39_nY39.csv').to_numpy()\n",
    "\n",
    "img = cv2.imread('sample_calibration_images/moving_target/set1/cal1.tif')\n",
    "\n",
    "matches = match_calibration_grid(img, image_points=image_points, grid_points=calibration_points, grid_spacing=5)\n"
   ]
  },
  {
   "cell_type": "code",
   "execution_count": null,
   "id": "2",
   "metadata": {},
   "outputs": [],
   "source": [
    "import numpy as np\n",
    "\n",
    "output_file = 'output/matches.txt'\n",
    "with open(output_file, 'w') as f:\n",
    "    for grid_pt, img_pt in matches:\n",
    "        grid_str = ','.join(map(str, grid_pt))\n",
    "        img_str = ','.join(map(str, img_pt))\n",
    "        f.write(f\"{grid_str},{img_str}\\n\")"
   ]
  }
 ],
 "metadata": {
  "kernelspec": {
   "display_name": "Python 3",
   "language": "python",
   "name": "python3"
  },
  "language_info": {
   "codemirror_mode": {
    "name": "ipython",
    "version": 3
   },
   "file_extension": ".py",
   "mimetype": "text/x-python",
   "name": "python",
   "nbconvert_exporter": "python",
   "pygments_lexer": "ipython3",
   "version": "3.10.18"
  }
 },
 "nbformat": 4,
 "nbformat_minor": 5
}
